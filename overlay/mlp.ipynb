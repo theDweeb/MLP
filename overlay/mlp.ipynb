{
 "cells": [
  {
   "cell_type": "code",
   "execution_count": 1,
   "metadata": {},
   "outputs": [
    {
     "data": {
      "application/javascript": [
       "\n",
       "require(['notebook/js/codecell'], function(codecell) {\n",
       "  codecell.CodeCell.options_default.highlight_modes[\n",
       "      'magic_text/x-csrc'] = {'reg':[/^%%microblaze/]};\n",
       "  Jupyter.notebook.events.one('kernel_ready.Kernel', function(){\n",
       "      Jupyter.notebook.get_cells().map(function(cell){\n",
       "          if (cell.cell_type == 'code'){ cell.auto_highlight(); } }) ;\n",
       "  });\n",
       "});\n"
      ]
     },
     "metadata": {},
     "output_type": "display_data"
    }
   ],
   "source": [
    "from pynq import Overlay, Xlnk\n",
    "import pynq.lib.dma\n",
    "import numpy as np\n",
    "overlay = Overlay('/home/xilinx/jupyter_notebooks/overlay/mlp.bit')\n",
    "Xlnk.set_allocator_library('/home/xilinx/jupyter_notebooks/overlay/mlp.so')"
   ]
  },
  {
   "cell_type": "code",
   "execution_count": 2,
   "metadata": {},
   "outputs": [],
   "source": [
    "image_size = 28*28\n",
    "l1_w_size = 784*100\n",
    "l1_b_size = 100\n",
    "l2_w_size = 100*10\n",
    "l2_b_size = 10\n",
    "output_size = 10"
   ]
  },
  {
   "cell_type": "code",
   "execution_count": 3,
   "metadata": {},
   "outputs": [],
   "source": [
    "image_np = np.load('test_set/one.npy')\n",
    "image_np = (image_np * 16).astype(int)\n",
    "image_np = image_np.flatten()\n",
    "\n",
    "l1_w_np = np.load('weights/l1_w.npy')\n",
    "l1_w_np = (l1_w_np * 16).astype(int)\n",
    "l1_w_np = l1_w_np.flatten()\n",
    "\n",
    "l1_b_np = np.load('weights/l1_b.npy')\n",
    "l1_b_np = (l1_b_np * 16).astype(int)\n",
    "\n",
    "l2_w_np = np.load('weights/l2_w.npy')\n",
    "l2_w_np = (l2_w_np * 16).astype(int)\n",
    "l2_w_np = l2_w_np.flatten()\n",
    "\n",
    "l2_b_np = np.load('weights/l2_b.npy')\n",
    "l2_b_np = (l2_b_np * 16).astype(int)"
   ]
  },
  {
   "cell_type": "code",
   "execution_count": 4,
   "metadata": {},
   "outputs": [],
   "source": [
    "import cffi\n",
    "ffi = cffi.FFI()\n",
    "ffi.cdef(\"void p_0_MLP_1_noasync(unsigned char *image, signed char *l1_w, signed char *l1_b, signed char *l2_w, signed char *l2_b, unsigned char *out);\")\n",
    "dlib = ffi.dlopen('/home/xilinx/jupyter_notebooks/overlay/mlp.so')"
   ]
  },
  {
   "cell_type": "code",
   "execution_count": 5,
   "metadata": {},
   "outputs": [],
   "source": [
    "xlnk = Xlnk()\n",
    "image = xlnk.cma_array(shape=(image_size,), dtype=np.uint8) #(int *) sds_alloc(image_size_bytes);\n",
    "l1_w = xlnk.cma_array(shape=(l1_w_size,), dtype=np.int8) #(int *) sds_alloc(weight_size_bytes);\n",
    "l1_b = xlnk.cma_array(shape=(l1_b_size,), dtype=np.int8) #(int *) sds_alloc(weight_size_bytes);\n",
    "l2_w = xlnk.cma_array(shape=(l2_w_size,), dtype=np.int8) #(int *) sds_alloc(weight_size_bytes);\n",
    "l2_b = xlnk.cma_array(shape=(l2_b_size,), dtype=np.int8) #(int *) sds_alloc(weight_size_bytes);\n",
    "output = xlnk.cma_array(shape=(output_size,), dtype=np.uint8) #(int *) sds_alloc(output_size_bytes);\n"
   ]
  },
  {
   "cell_type": "code",
   "execution_count": 6,
   "metadata": {},
   "outputs": [],
   "source": [
    "for i in range(image_size):\n",
    "    image[i] = image_np[i]\n",
    "\n",
    "for i in range(l1_w_size):\n",
    "    l1_w[i] = l1_w_np[i]\n",
    "\n",
    "for i in range(l1_b_size):\n",
    "    l1_b[i] = l1_b_np[i]\n",
    "    \n",
    "for i in range(l2_w_size):\n",
    "    l2_w[i] = l2_w_np[i]\n",
    "\n",
    "for i in range(l2_b_size):\n",
    "    l2_b[i] = l2_b_np[i]\n",
    "\n",
    "for i in range(output_size): #(int i = 0; i < o_chan*OSize*OSize; i++)\n",
    "    output[i] = 0\n",
    "    "
   ]
  },
  {
   "cell_type": "code",
   "execution_count": 7,
   "metadata": {},
   "outputs": [],
   "source": [
    "dlib.p_0_MLP_1_noasync(image.pointer, l1_w.pointer, l1_b.pointer, l2_w.pointer, l2_b.pointer, output.pointer)"
   ]
  },
  {
   "cell_type": "code",
   "execution_count": 8,
   "metadata": {},
   "outputs": [],
   "source": [
    "output = output / 16\n",
    "output = output * 100\n"
   ]
  },
  {
   "cell_type": "code",
   "execution_count": 15,
   "metadata": {},
   "outputs": [
    {
     "name": "stdout",
     "output_type": "stream",
     "text": [
      "Results\n",
      "0 0.0%\n",
      "1 100.0%\n",
      "2 0.0%\n",
      "3 0.0%\n",
      "4 0.0%\n",
      "5 0.0%\n",
      "6 0.0%\n",
      "7 0.0%\n",
      "8 0.0%\n",
      "9 0.0%\n"
     ]
    }
   ],
   "source": [
    "print(\"Results\")\n",
    "for i in range(output_size):\n",
    "    print(str(i) + \" \" + np.array2string(output[i]) + '%')"
   ]
  },
  {
   "cell_type": "code",
   "execution_count": 16,
   "metadata": {},
   "outputs": [],
   "source": [
    "xlnk.xlnk_reset()"
   ]
  }
 ],
 "metadata": {
  "kernelspec": {
   "display_name": "Python 3",
   "language": "python",
   "name": "python3"
  },
  "language_info": {
   "codemirror_mode": {
    "name": "ipython",
    "version": 3
   },
   "file_extension": ".py",
   "mimetype": "text/x-python",
   "name": "python",
   "nbconvert_exporter": "python",
   "pygments_lexer": "ipython3",
   "version": "3.6.5"
  }
 },
 "nbformat": 4,
 "nbformat_minor": 2
}
